{
 "cells": [
  {
   "cell_type": "code",
   "execution_count": null,
   "id": "d255dc3c-7c31-45df-bd3a-0f432a4a80b7",
   "metadata": {},
   "outputs": [],
   "source": [
    "import json\n",
    "\n",
    "with open('gemini_sum.json','r') as f:\n",
    "    data = json.load(f)\n",
    "# with open('videollava_desc.json','r') as f:\n",
    "#     data = json.load(f)"
   ]
  },
  {
   "cell_type": "code",
   "execution_count": null,
   "id": "69475d0c-626c-4edf-8211-39c5c5500e79",
   "metadata": {},
   "outputs": [],
   "source": [
    "def get_emo_score(sample_avg_emotions_list):\n",
    "    overall_avg = {\"Happy\": 0, \"Angry\": 0, \"Surprise\": 0, \"Sad\": 0, \"Fear\": 0}\n",
    "    if sample_avg_emotions_list:\n",
    "        for sample_emotions in sample_avg_emotions_list:\n",
    "            for key in overall_avg:\n",
    "                overall_avg[key] += sample_emotions.get(key, 0)\n",
    "        # Divide each accumulated emotion by the number of samples\n",
    "        for key in overall_avg:\n",
    "            overall_avg[key] /= len(sample_avg_emotions_list)\n",
    "\n",
    "        avg_score = 0\n",
    "        for key in overall_avg:\n",
    "            avg_score+= overall_avg[key] \n",
    "    \n",
    "    return  avg_score/4"
   ]
  },
  {
   "cell_type": "code",
   "execution_count": null,
   "id": "0894c028-f4b7-416b-be31-ffde1e35d992",
   "metadata": {},
   "outputs": [],
   "source": [
    "avg_aspect_score = sum(data['aspect_score'])/len(data['aspect_score'])\n",
    "avg_sentiment_score = sum(data['final_sentiment'])/len(data['final_sentiment'])\n",
    "avg_emo_score = get_emo_score(data['emotion_sccore'])"
   ]
  },
  {
   "cell_type": "code",
   "execution_count": null,
   "id": "c5877cb1-61f8-4669-86a9-3df1c1510eb1",
   "metadata": {},
   "outputs": [],
   "source": [
    "print('CR Score', round((avg_aspect_score + avg_sentiment_score + avg_emo_score) / 3, 3))\n"
   ]
  }
 ],
 "metadata": {
  "kernelspec": {
   "display_name": "Python (complaintconv)",
   "language": "python",
   "name": "complaintconv"
  },
  "language_info": {
   "codemirror_mode": {
    "name": "ipython",
    "version": 3
   },
   "file_extension": ".py",
   "mimetype": "text/x-python",
   "name": "python",
   "nbconvert_exporter": "python",
   "pygments_lexer": "ipython3",
   "version": "3.9.21"
  }
 },
 "nbformat": 4,
 "nbformat_minor": 5
}
